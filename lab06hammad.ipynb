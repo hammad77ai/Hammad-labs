{
 "cells": [
  {
   "cell_type": "markdown",
   "id": "560051d8-be4d-4da7-9d3b-0ed91782863d",
   "metadata": {},
   "source": [
    "# Basic Task: Write a for loop to print the first 10 natural numbers."
   ]
  },
  {
   "cell_type": "code",
   "execution_count": 1,
   "id": "d6e6f4e0-5453-459c-879d-27c348c3e5c2",
   "metadata": {},
   "outputs": [
    {
     "name": "stdout",
     "output_type": "stream",
     "text": [
      "1\n",
      "2\n",
      "3\n",
      "4\n",
      "5\n",
      "6\n",
      "7\n",
      "8\n",
      "9\n",
      "10\n"
     ]
    }
   ],
   "source": [
    "for i in range(1, 11):\n",
    "    print(i)\n"
   ]
  },
  {
   "cell_type": "markdown",
   "id": "21cbfd06-61d7-4ee5-ad49-2539abf7afe1",
   "metadata": {},
   "source": [
    "# Intermediate Task: Write a while loop that prints numbers from 10 down to 1."
   ]
  },
  {
   "cell_type": "code",
   "execution_count": 2,
   "id": "b59afc7c-32b7-4b57-a358-2207264643f5",
   "metadata": {},
   "outputs": [
    {
     "name": "stdout",
     "output_type": "stream",
     "text": [
      "10\n",
      "9\n",
      "8\n",
      "7\n",
      "6\n",
      "5\n",
      "4\n",
      "3\n",
      "2\n",
      "1\n"
     ]
    }
   ],
   "source": [
    "num = 10\n",
    "\n",
    "while num >= 1:\n",
    "    print(num)\n",
    "    num -= 1"
   ]
  },
  {
   "cell_type": "markdown",
   "id": "df8e1564-72fc-4e6d-9f37-d596dad28a43",
   "metadata": {},
   "source": [
    "# Advanced Task: Create a program that uses a for loop to iterate over a string and count the number of vowels."
   ]
  },
  {
   "cell_type": "code",
   "execution_count": 3,
   "id": "177e21a7-5520-4ab7-bfe3-a4e39a9636c7",
   "metadata": {},
   "outputs": [
    {
     "name": "stdout",
     "output_type": "stream",
     "text": [
      "Enter a string:  abc\n"
     ]
    },
    {
     "name": "stdout",
     "output_type": "stream",
     "text": [
      "Number of vowels: 1\n"
     ]
    }
   ],
   "source": [
    "text = input(\"Enter a string: \")\n",
    "\n",
    "vowels = \"aeiouAEIOU\"\n",
    "vowel_count = 0\n",
    "\n",
    "for char in text:\n",
    "    if char in vowels:\n",
    "        vowel_count += 1\n",
    "\n",
    "print(\"Number of vowels:\", vowel_count)"
   ]
  },
  {
   "cell_type": "markdown",
   "id": "0d56adc7-f473-4539-b67c-8bad686e5ad8",
   "metadata": {},
   "source": [
    "# Challenge Task: Write a program that prints the Fibonacci series up to n terms using a while loop."
   ]
  },
  {
   "cell_type": "code",
   "execution_count": 11,
   "id": "6ca7a97f-573a-4f0d-a631-d34ced5bff7b",
   "metadata": {},
   "outputs": [
    {
     "name": "stdout",
     "output_type": "stream",
     "text": [
      "Enter the number of terms:  12\n"
     ]
    },
    {
     "name": "stdout",
     "output_type": "stream",
     "text": [
      "0 1 1 2 3 5 8 13 21 34 55 89 "
     ]
    }
   ],
   "source": [
    "n = int(input(\"Enter the number of terms: \"))\n",
    "\n",
    "a, b = 0, 1\n",
    "count = 0\n",
    "\n",
    "while count < n:\n",
    "    print(a, end=\" \")\n",
    "    a, b = b, a + b\n",
    "    count += 1"
   ]
  }
 ],
 "metadata": {
  "kernelspec": {
   "display_name": "Python 3 (ipykernel)",
   "language": "python",
   "name": "python3"
  },
  "language_info": {
   "codemirror_mode": {
    "name": "ipython",
    "version": 3
   },
   "file_extension": ".py",
   "mimetype": "text/x-python",
   "name": "python",
   "nbconvert_exporter": "python",
   "pygments_lexer": "ipython3",
   "version": "3.13.0"
  }
 },
 "nbformat": 4,
 "nbformat_minor": 5
}
