{
 "cells": [
  {
   "cell_type": "markdown",
   "id": "de85fc0b-1b01-43af-a30c-50f52af6464a",
   "metadata": {},
   "source": [
    "# Task 1: Write a funtion that takes two numbers and return their produt"
   ]
  },
  {
   "cell_type": "code",
   "execution_count": 1,
   "id": "3e9c50c7-dbde-43cb-bb32-9d994afde2f0",
   "metadata": {},
   "outputs": [
    {
     "name": "stdout",
     "output_type": "stream",
     "text": [
      "The product is: 20\n"
     ]
    }
   ],
   "source": [
    "\n",
    "  #task 1\n",
    "def multiply_numbers(a, b):\n",
    "    return a * b\n",
    "\n",
    "# Example usage:\n",
    "result = multiply_numbers(4, 5)\n",
    "print(\"The product is:\", result)\n"
   ]
  },
  {
   "cell_type": "markdown",
   "id": "d8942434-2fbb-4c45-abda-16fbc25384f3",
   "metadata": {},
   "source": [
    "# Task 2: Write a functions that cheks whether a number is even or odd"
   ]
  },
  {
   "cell_type": "code",
   "execution_count": 2,
   "id": "7afb736d-7af6-4203-b169-8bb016499041",
   "metadata": {
    "scrolled": true
   },
   "outputs": [
    {
     "name": "stdout",
     "output_type": "stream",
     "text": [
      "The number is: Odd\n"
     ]
    }
   ],
   "source": [
    "def check_even_odd(number):\n",
    "    if number % 2 == 0:\n",
    "        return \"Even\"\n",
    "    else:\n",
    "        return \"Odd\"\n",
    "\n",
    "# Example usage:\n",
    "result = check_even_odd(7)\n",
    "print(\"The number is:\", result)\n",
    "\n"
   ]
  },
  {
   "cell_type": "markdown",
   "id": "dcc5c4db",
   "metadata": {},
   "source": [
    "# task 3: write a function that takes a name and a age and prints a greeting message to the user"
   ]
  },
  {
   "cell_type": "code",
   "execution_count": 3,
   "id": "66fb0259-4c29-4bfc-98ae-e071b69c6c7b",
   "metadata": {},
   "outputs": [
    {
     "name": "stdout",
     "output_type": "stream",
     "text": [
      "Hello, Alice! You are 30 years old.\n"
     ]
    }
   ],
   "source": [
    "def greet_user(name, age):\n",
    "    print(f\"Hello, {name}! You are {age} years old.\")\n",
    "\n",
    "# Example usage:\n",
    "greet_user(\"Alice\", 30)"
   ]
  }
 ],
 "metadata": {
  "kernelspec": {
   "display_name": "Python 3",
   "language": "python",
   "name": "python3"
  },
  "language_info": {
   "codemirror_mode": {
    "name": "ipython",
    "version": 3
   },
   "file_extension": ".py",
   "mimetype": "text/x-python",
   "name": "python",
   "nbconvert_exporter": "python",
   "pygments_lexer": "ipython3",
   "version": "3.13.3"
  }
 },
 "nbformat": 4,
 "nbformat_minor": 5
}
