{
 "cells": [
  {
   "cell_type": "markdown",
   "id": "a13f4e95-fd9d-4813-a718-a1bb0425e0e5",
   "metadata": {},
   "source": [
    "# Task 01: Make 2-2 programs of each datatype."
   ]
  },
  {
   "cell_type": "markdown",
   "id": "4796e1ec-cf99-49e7-9254-005cc973c813",
   "metadata": {},
   "source": [
    "# 1. Integer (int)"
   ]
  },
  {
   "cell_type": "code",
   "execution_count": 2,
   "id": "4702d11c-d327-49a0-af67-6ab9d589e958",
   "metadata": {},
   "outputs": [
    {
     "name": "stdout",
     "output_type": "stream",
     "text": [
      "sum of integers: 35\n"
     ]
    }
   ],
   "source": [
    "num1 =10\n",
    "num2 =25\n",
    "print(\"sum of integers:\",num1 +num2)"
   ]
  },
  {
   "cell_type": "code",
   "execution_count": 3,
   "id": "8d3e623d",
   "metadata": {},
   "outputs": [
    {
     "name": "stdout",
     "output_type": "stream",
     "text": [
      "Future age: 25\n"
     ]
    }
   ],
   "source": [
    "age = 20\n",
    "years = 5\n",
    "print(\"Future age:\", age + years)\n"
   ]
  },
  {
   "cell_type": "code",
   "execution_count": 4,
   "id": "945ca07e",
   "metadata": {},
   "outputs": [
    {
     "name": "stdout",
     "output_type": "stream",
     "text": [
      "Total number of fruits: 20\n"
     ]
    }
   ],
   "source": [
    "apples = 12\n",
    "oranges = 8\n",
    "total_fruits = apples + oranges\n",
    "print(\"Total number of fruits:\", total_fruits)"
   ]
  },
  {
   "cell_type": "markdown",
   "id": "4701ac56-92ef-4963-9c24-3e7fed5c7258",
   "metadata": {},
   "source": [
    "# 2. Float"
   ]
  },
  {
   "cell_type": "code",
   "execution_count": null,
   "id": "698a2894-8fd7-4657-8442-61d1bb6c9ee5",
   "metadata": {
    "scrolled": true
   },
   "outputs": [
    {
     "name": "stdout",
     "output_type": "stream",
     "text": [
      "Area of circle: 63.585\n"
     ]
    }
   ],
   "source": [
    "temperature_celsius = 36.6\n",
    "temperature_fahrenheit = (temperature_celsius * 9 / 5) + 32\n",
    "print(\"Temperature in Fahrenheit:\", temperature_fahrenheit)\n",
    "\n",
    "# Program 2\n",
    "celsius = 37.0\n",
    "fahrenheit = (celsius * 9 / 5) + 32\n",
    "print(\"Fahrenheit:\", fahrenheit)"
   ]
  },
  {
   "cell_type": "markdown",
   "id": "dc263789-a751-485d-971e-e064bcdba37c",
   "metadata": {},
   "source": [
    "# 3. String"
   ]
  },
  {
   "cell_type": "code",
   "execution_count": 7,
   "id": "58b05786-4c12-4594-a82a-4dc2c67bdbbe",
   "metadata": {},
   "outputs": [
    {
     "name": "stdout",
     "output_type": "stream",
     "text": [
      "Full Name: Hammad Khan\n",
      "Message: PYTHON IS FUN!\n"
     ]
    }
   ],
   "source": [
    "first_name = \"Hammad\"\n",
    "last_name = \"Khan\"\n",
    "print(\"Full Name:\", first_name + \" \" + last_name)\n",
    "\n",
    "# Program 2\n",
    "msg = \"Python is fun!\"\n",
    "print(\"Message:\", msg.upper())\n"
   ]
  },
  {
   "cell_type": "code",
   "execution_count": 8,
   "id": "b5886a2e-8699-4d3b-a9bd-f6b7bbc78def",
   "metadata": {
    "scrolled": true
   },
   "outputs": [
    {
     "name": "stdout",
     "output_type": "stream",
     "text": [
      "Formatted Sentence: Learning Python Is Interesting\n"
     ]
    }
   ],
   "source": [
    "sentence = \"learning python is interesting\"\n",
    "words = sentence.title()\n",
    "print(\"Formatted Sentence:\", words)"
   ]
  },
  {
   "cell_type": "markdown",
   "id": "cabfeced-f8d2-43d8-b8d2-714164db95fc",
   "metadata": {},
   "source": [
    "# 4. List"
   ]
  },
  {
   "cell_type": "code",
   "execution_count": 11,
   "id": "d3bdb7c1-8803-4f5a-8366-dbc0d3b18781",
   "metadata": {
    "scrolled": true
   },
   "outputs": [
    {
     "name": "stdout",
     "output_type": "stream",
     "text": [
      "Sum: 15\n",
      "['apple', 'banana', 'mango']\n"
     ]
    }
   ],
   "source": [
    "numbers = [1, 2, 3, 4, 5]\n",
    "if all(isinstance(x, (int, float)) for x in numbers):\n",
    "    print(\"Sum:\", sum(numbers))\n",
    "else:\n",
    "    print(\"Error: The list contains non-numeric values.\")\n",
    "\n",
    "# Program 2\n",
    "fruits = [\"apple\", \"banana\"]\n",
    "fruits.append(\"mango\")\n",
    "print(fruits)\n"
   ]
  },
  {
   "cell_type": "markdown",
   "id": "2d3f5278-fe89-49ea-82a3-cda33579c143",
   "metadata": {},
   "source": [
    "# 5. Tuple"
   ]
  },
  {
   "cell_type": "code",
   "execution_count": 12,
   "id": "62ad9258-c6d2-428e-9b01-fc57625886dc",
   "metadata": {
    "scrolled": true
   },
   "outputs": [
    {
     "name": "stdout",
     "output_type": "stream",
     "text": [
      "hammad\n"
     ]
    }
   ],
   "source": [
    "# Program 1: Accessing tuple elements\n",
    "person = (\"hammad\", 25, \"Karachi\")\n",
    "print(person[0])"
   ]
  },
  {
   "cell_type": "code",
   "execution_count": 28,
   "id": "fd7f885b-468f-45bb-a301-8c5a38daddb7",
   "metadata": {},
   "outputs": [
    {
     "name": "stdout",
     "output_type": "stream",
     "text": [
      "a: 10 b: 20\n"
     ]
    }
   ],
   "source": [
    "# Program 2: Tuple unpacking\n",
    "a, b = (10, 20)\n",
    "print(\"a:\", a, \"b:\", b)"
   ]
  },
  {
   "cell_type": "markdown",
   "id": "151ce763-403b-4a75-a23f-2f12c0de0bf0",
   "metadata": {},
   "source": [
    "# 6. Dictionary"
   ]
  },
  {
   "cell_type": "code",
   "execution_count": null,
   "id": "49be6b5d-4afd-4339-9cb5-90e210f31a1f",
   "metadata": {},
   "outputs": [
    {
     "name": "stdout",
     "output_type": "stream",
     "text": [
      "Name: Muzzammil\n"
     ]
    }
   ],
   "source": [
    "# Program 1: Access value using key\n",
    "student = {\"name\": \"hammad\", \"age\": 19}\n",
    "print(\"Name:\", student[\"name\"])"
   ]
  },
  {
   "cell_type": "code",
   "execution_count": 30,
   "id": "c969b959-312e-40ae-a19f-339666194b96",
   "metadata": {},
   "outputs": [
    {
     "name": "stdout",
     "output_type": "stream",
     "text": [
      "{'brand': 'Toyota', 'model': 'Corolla', 'year': 2020}\n"
     ]
    }
   ],
   "source": [
    "# Program 2: Add new key-value pair.\n",
    "car = {\"brand\": \"Toyota\", \"model\": \"Corolla\"}\n",
    "car[\"year\"] = 2020\n",
    "print(car)"
   ]
  },
  {
   "cell_type": "markdown",
   "id": "2d3fca5d-5b65-437f-958a-ce565b18b676",
   "metadata": {},
   "source": [
    "# 7. Boolean"
   ]
  },
  {
   "cell_type": "code",
   "execution_count": 31,
   "id": "aa60ce65-7c63-4f4d-b857-6857f111926e",
   "metadata": {},
   "outputs": [
    {
     "name": "stdout",
     "output_type": "stream",
     "text": [
      "True\n"
     ]
    }
   ],
   "source": [
    "# Program 1: Check if value is greater\n",
    "a = 5\n",
    "b = 3\n",
    "print(a > b)  # Output: True"
   ]
  },
  {
   "cell_type": "code",
   "execution_count": 32,
   "id": "3aae1d1c-4b27-4e56-922a-433eb03401d6",
   "metadata": {},
   "outputs": [
    {
     "name": "stdout",
     "output_type": "stream",
     "text": [
      "Welcome!\n"
     ]
    }
   ],
   "source": [
    "# Program 2: Using boolean in condition\n",
    "is_logged_in = True\n",
    "if is_logged_in:\n",
    "    print(\"Welcome!\")\n",
    "else:\n",
    "    print(\"Please login.\")"
   ]
  },
  {
   "cell_type": "markdown",
   "id": "74defe4d-a8ab-444a-8eb1-e49d371490c3",
   "metadata": {},
   "source": [
    "# 8. Complex"
   ]
  },
  {
   "cell_type": "code",
   "execution_count": 33,
   "id": "cd1bb005-6558-45bf-a9c5-836f0a1234d8",
   "metadata": {},
   "outputs": [
    {
     "name": "stdout",
     "output_type": "stream",
     "text": [
      "Sum: (4+6j)\n"
     ]
    }
   ],
   "source": [
    "# Program 1: Add two complex numbers\n",
    "a = 3 + 4j\n",
    "b = 1 + 2j\n",
    "print(\"Sum:\", a + b)"
   ]
  },
  {
   "cell_type": "code",
   "execution_count": 34,
   "id": "b8412a84-f22d-4948-8f15-891ab4349854",
   "metadata": {},
   "outputs": [
    {
     "name": "stdout",
     "output_type": "stream",
     "text": [
      "Product: (5+1j)\n"
     ]
    }
   ],
   "source": [
    "# Program 2: Multiply complex numbers\n",
    "x = 2 + 3j\n",
    "y = 1 - 1j\n",
    "print(\"Product:\", x * y)"
   ]
  },
  {
   "cell_type": "markdown",
   "id": "688c9615-b558-4655-97d4-180d0da25695",
   "metadata": {},
   "source": [
    "# 9. Range"
   ]
  },
  {
   "cell_type": "code",
   "execution_count": 35,
   "id": "6e4526c8-cc61-48af-ba17-c93f9c9675ae",
   "metadata": {
    "scrolled": true
   },
   "outputs": [
    {
     "name": "stdout",
     "output_type": "stream",
     "text": [
      "1\n",
      "2\n",
      "3\n",
      "4\n",
      "5\n"
     ]
    }
   ],
   "source": [
    "# Program 1: Print numbers from 1 to 5 using range\n",
    "for i in range(1, 6):\n",
    "    print(i)"
   ]
  },
  {
   "cell_type": "code",
   "execution_count": 36,
   "id": "f8f564f3-8474-4cf8-8bf4-2adcaf3ff4f6",
   "metadata": {
    "scrolled": true
   },
   "outputs": [
    {
     "name": "stdout",
     "output_type": "stream",
     "text": [
      "[2, 4, 6, 8, 10]\n"
     ]
    }
   ],
   "source": [
    "# Program 2: Generate even numbers\n",
    "even_numbers = list(range(2, 11, 2))\n",
    "print(even_numbers)"
   ]
  },
  {
   "cell_type": "markdown",
   "id": "cbca1f6b-e041-4627-b745-cfe57f3070f7",
   "metadata": {},
   "source": [
    "# 10. Set"
   ]
  },
  {
   "cell_type": "code",
   "execution_count": 37,
   "id": "5a966f7f-6072-472b-8b6f-3db52716d29d",
   "metadata": {},
   "outputs": [
    {
     "name": "stdout",
     "output_type": "stream",
     "text": [
      "{1, 2, 3, 4}\n"
     ]
    }
   ],
   "source": [
    "# Program 1: Create a set and add elements\n",
    "my_set = {1, 2, 3}\n",
    "my_set.add(4)\n",
    "print(my_set)"
   ]
  },
  {
   "cell_type": "code",
   "execution_count": 38,
   "id": "8fe4d85b-cddc-4a71-b8db-e6b497636e72",
   "metadata": {
    "scrolled": true
   },
   "outputs": [
    {
     "name": "stdout",
     "output_type": "stream",
     "text": [
      "Union: {1, 2, 3, 4, 5}\n"
     ]
    }
   ],
   "source": [
    "# Program 2: Set operations (union)\n",
    "a = {1, 2, 3}\n",
    "b = {3, 4, 5}\n",
    "print(\"Union:\", a | b)"
   ]
  },
  {
   "cell_type": "markdown",
   "id": "bfedefe6-33b5-4730-b993-39728fe939a1",
   "metadata": {},
   "source": [
    "# 11. Frozenset"
   ]
  },
  {
   "cell_type": "code",
   "execution_count": 39,
   "id": "4e81b491-46f5-49ec-9fbc-6788449c5133",
   "metadata": {
    "scrolled": true
   },
   "outputs": [
    {
     "name": "stdout",
     "output_type": "stream",
     "text": [
      "frozenset({1, 2, 3, 4})\n"
     ]
    }
   ],
   "source": [
    "# Program 1: Create a frozenset\n",
    "f_set = frozenset([1, 2, 3, 4])\n",
    "print(f_set)"
   ]
  },
  {
   "cell_type": "code",
   "execution_count": 40,
   "id": "52141860-b058-4ca9-b298-43c8041a2da8",
   "metadata": {
    "scrolled": true
   },
   "outputs": [
    {
     "name": "stdout",
     "output_type": "stream",
     "text": [
      "Intersection: frozenset({2, 3})\n"
     ]
    }
   ],
   "source": [
    "# Program 2: Froenset intersection\n",
    "a = frozenset([1, 2, 3])\n",
    "b = frozenset([2, 3, 4])\n",
    "print(\"Intersection:\", a & b)"
   ]
  },
  {
   "cell_type": "markdown",
   "id": "b54efda4-4348-4a13-a96e-f42440b28b94",
   "metadata": {},
   "source": [
    "# Task 02:Make up to 5 Shape programs using '*'."
   ]
  },
  {
   "cell_type": "code",
   "execution_count": 41,
   "id": "94394c2f-4499-4a93-b80f-60aa9abedc8e",
   "metadata": {
    "scrolled": true
   },
   "outputs": [
    {
     "name": "stdout",
     "output_type": "stream",
     "text": [
      "*\n",
      "**\n",
      "***\n",
      "****\n",
      "*****\n"
     ]
    }
   ],
   "source": [
    "# 01 Make a diamond shape using ' * ' by logic method\n",
    "rows = 5\n",
    "for i in range(1, rows + 1):\n",
    "    for j in range(i):\n",
    "        print('*', end='')\n",
    "    print()"
   ]
  },
  {
   "cell_type": "code",
   "execution_count": 42,
   "id": "4729fcfe-e14f-4e43-9c92-76de35499ceb",
   "metadata": {},
   "outputs": [
    {
     "name": "stdout",
     "output_type": "stream",
     "text": [
      "*****\n",
      "*****\n",
      "*****\n",
      "*****\n",
      "*****\n"
     ]
    }
   ],
   "source": [
    "# 02 Make a square shape using ' * ' by logic method\n",
    "rows = 5\n",
    "for i in range(rows):\n",
    "    print('*' * rows)"
   ]
  },
  {
   "cell_type": "code",
   "execution_count": 43,
   "id": "fa58b47b-144e-4540-8b9f-7dc6d7eb667d",
   "metadata": {},
   "outputs": [
    {
     "name": "stdout",
     "output_type": "stream",
     "text": [
      "**********\n",
      "**********\n",
      "**********\n",
      "**********\n",
      "**********\n"
     ]
    }
   ],
   "source": [
    "# 03 Make a rectangle shape using ' * ' by logic method\n",
    "rows = 5\n",
    "columns = 10\n",
    "for i in range(rows):\n",
    "    print('*' * columns)"
   ]
  },
  {
   "cell_type": "code",
   "execution_count": 44,
   "id": "f33fc344-0c13-4e71-8183-cd3f85231b46",
   "metadata": {},
   "outputs": [
    {
     "name": "stdout",
     "output_type": "stream",
     "text": [
      "    * \n",
      "   * * \n",
      "  * * * \n",
      " * * * * \n",
      "* * * * * \n"
     ]
    }
   ],
   "source": [
    "# 04 Make a Triangle shape using ' * ' by logic method\n",
    "rows = 5\n",
    "for i in range(1, rows + 1):\n",
    "    print(' ' * (rows - i), end='')\n",
    "    print('* ' * i)"
   ]
  },
  {
   "cell_type": "code",
   "execution_count": 45,
   "id": "4fa86349-abf3-41ad-8e19-0b4ca86ae061",
   "metadata": {},
   "outputs": [
    {
     "name": "stdout",
     "output_type": "stream",
     "text": [
      "  *\n",
      " ***\n",
      "*****\n",
      " ***\n",
      "  *\n"
     ]
    }
   ],
   "source": [
    "# 05 Make a diamond shape using ' * ' by logic method\n",
    "rows = 5\n",
    "for i in range(1, rows + 1, 2):\n",
    "    spaces = (rows - i) // 2\n",
    "    print(' ' * spaces + '*' * i)\n",
    "for i in range(rows - 2, 0, -2):\n",
    "    spaces = (rows - i) // 2\n",
    "    print(' ' * spaces + '*'*i)"
   ]
  },
  {
   "cell_type": "markdown",
   "id": "b0c7dab1-787c-4dbc-96df-392f58340d3b",
   "metadata": {},
   "source": [
    "# Task 03:Make same shapes you have made in task 2, using * mutiple by number."
   ]
  },
  {
   "cell_type": "code",
   "execution_count": 46,
   "id": "4887482b-8fdb-4144-a0a4-1d9cd421642d",
   "metadata": {},
   "outputs": [
    {
     "name": "stdout",
     "output_type": "stream",
     "text": [
      "1 \n",
      "1 2 \n",
      "1 2 3 \n",
      "1 2 3 4 \n",
      "1 2 3 4 5 \n"
     ]
    }
   ],
   "source": [
    "# 01 Make a diamond shape using 'numbers' by logic method\n",
    "rows = 5\n",
    "for i in range(1, rows + 1):\n",
    "    for j in range(1, i + 1):\n",
    "        print(j, end=' ')\n",
    "    print()"
   ]
  },
  {
   "cell_type": "code",
   "execution_count": 47,
   "id": "99628787-0e46-4e44-8f67-a47feb2452d0",
   "metadata": {},
   "outputs": [
    {
     "name": "stdout",
     "output_type": "stream",
     "text": [
      "12345\n",
      "12345\n",
      "12345\n",
      "12345\n",
      "12345\n"
     ]
    }
   ],
   "source": [
    "# 02 Make a square shape using 'numbers' by logic method\n",
    "rows = 5\n",
    "for i in range(rows):\n",
    "    for j in range(1, rows + 1):\n",
    "        print(j, end='')\n",
    "    print()"
   ]
  },
  {
   "cell_type": "code",
   "execution_count": 48,
   "id": "6397236a-eaaf-4212-9b1e-7211eae174b3",
   "metadata": {},
   "outputs": [
    {
     "name": "stdout",
     "output_type": "stream",
     "text": [
      "12345678910\n",
      "12345678910\n",
      "12345678910\n",
      "12345678910\n",
      "12345678910\n"
     ]
    }
   ],
   "source": [
    "# 03 Make a rectangle shape using ' * ' by logic method\n",
    "rows = 5\n",
    "columns = 10\n",
    "for i in range(rows):\n",
    "    for j in range(1, columns + 1):\n",
    "        print(j, end='')\n",
    "    print()"
   ]
  },
  {
   "cell_type": "code",
   "execution_count": 49,
   "id": "acdc9584-eeac-487d-a78b-a87db585e93a",
   "metadata": {},
   "outputs": [
    {
     "name": "stdout",
     "output_type": "stream",
     "text": [
      "    1 \n",
      "   2 2 \n",
      "  3 3 3 \n",
      " 4 4 4 4 \n",
      "5 5 5 5 5 \n"
     ]
    }
   ],
   "source": [
    "# 04 Make a Triangle shape using ' * ' by logic method\n",
    "rows = 5\n",
    "for i in range(1, rows + 1):\n",
    "    print(' ' * (rows - i), end='')\n",
    "    print((str(i) + ' ') * i)"
   ]
  },
  {
   "cell_type": "code",
   "execution_count": 50,
   "id": "55c24815-fd94-40ea-a4bc-237e48ae26bc",
   "metadata": {},
   "outputs": [
    {
     "name": "stdout",
     "output_type": "stream",
     "text": [
      "  1\n",
      " 333\n",
      "55555\n",
      " 333\n",
      "  1\n"
     ]
    }
   ],
   "source": [
    "# 05 Make a diamond shape using ' * ' by logic method\n",
    "rows = 5\n",
    "rows = 5\n",
    "for i in range(1, rows + 1, 2):\n",
    "    spaces = (rows - i) // 2\n",
    "    print(' ' * spaces + (str(i) * i))\n",
    "for i in range(rows - 2, 0, -2):\n",
    "    spaces = (rows - i) // 2\n",
    "    print(' ' * spaces + (str(i) * i))"
   ]
  }
 ],
 "metadata": {
  "kernelspec": {
   "display_name": "Python 3",
   "language": "python",
   "name": "python3"
  },
  "language_info": {
   "codemirror_mode": {
    "name": "ipython",
    "version": 3
   },
   "file_extension": ".py",
   "mimetype": "text/x-python",
   "name": "python",
   "nbconvert_exporter": "python",
   "pygments_lexer": "ipython3",
   "version": "3.13.3"
  }
 },
 "nbformat": 4,
 "nbformat_minor": 5
}
