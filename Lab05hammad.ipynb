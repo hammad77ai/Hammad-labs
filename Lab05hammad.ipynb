{
 "cells": [
  {
   "cell_type": "markdown",
   "id": "c01fa100-06d4-4f0b-9fd8-6220dea34a40",
   "metadata": {},
   "source": [
    "# Task 01: Write a program that checks if a given number is positive, negative, or zero."
   ]
  },
  {
   "cell_type": "code",
   "execution_count": 1,
   "id": "d86b6898-f081-43ae-a85b-de4152b9622e",
   "metadata": {},
   "outputs": [
    {
     "name": "stdout",
     "output_type": "stream",
     "text": [
      "Enter a number:  -909\n"
     ]
    },
    {
     "name": "stdout",
     "output_type": "stream",
     "text": [
      "The number is negative.\n"
     ]
    }
   ],
   "source": [
    "num = float(input(\"Enter a number: \"))\n",
    "\n",
    "if num > 0:\n",
    "    print(\"The number is positive.\")\n",
    "elif num < 0:\n",
    "    print(\"The number is negative.\")\n",
    "else:\n",
    "    print(\"The number is zero.\")"
   ]
  },
  {
   "cell_type": "markdown",
   "id": "d4aec7c1-0489-4827-b800-d084a6225c9b",
   "metadata": {},
   "source": [
    "# Task 02: Write a program that takes user input and determines whether it's a even or odd."
   ]
  },
  {
   "cell_type": "code",
   "execution_count": 2,
   "id": "61ee6095-cfa9-4618-b237-2b4489a377df",
   "metadata": {},
   "outputs": [
    {
     "name": "stdout",
     "output_type": "stream",
     "text": [
      "Enter a number:  20\n"
     ]
    },
    {
     "name": "stdout",
     "output_type": "stream",
     "text": [
      "The number is even.\n"
     ]
    }
   ],
   "source": [
    "num = int(input(\"Enter a number: \"))\n",
    "\n",
    "if num % 2 == 0:\n",
    "    print(\"The number is even.\")\n",
    "else:\n",
    "    print(\"The number is odd.\")"
   ]
  },
  {
   "cell_type": "markdown",
   "id": "fd60d1dd-9503-49b4-9b95-55efba2c62df",
   "metadata": {},
   "source": [
    "# Task 03: Create a program that asks user to print:\"Excellent\" if marks are above 80, \"Good\" if marks are between 60 and 80, \"Needs Improvement\" if marks are below 60."
   ]
  },
  {
   "cell_type": "code",
   "execution_count": 2,
   "id": "e41c6086-5c1e-4cb4-b99e-04c7d8aa0078",
   "metadata": {},
   "outputs": [
    {
     "name": "stdout",
     "output_type": "stream",
     "text": [
      "Enter your marks:  50\n"
     ]
    },
    {
     "name": "stdout",
     "output_type": "stream",
     "text": [
      "Needs Improvement\n"
     ]
    }
   ],
   "source": [
    "marks = float(input(\"Enter your marks: \"))\n",
    "\n",
    "if marks > 80:\n",
    "    print(\"Excellent\")\n",
    "elif 60 <= marks <= 80:\n",
    "    print(\"Good\")\n",
    "else:\n",
    "    print(\"Needs Improvement\")\n"
   ]
  },
  {
   "cell_type": "code",
   "execution_count": null,
   "id": "96d5e2cd-7054-4a24-939b-64ef9410514e",
   "metadata": {},
   "outputs": [],
   "source": []
  }
 ],
 "metadata": {
  "kernelspec": {
   "display_name": "Python 3 (ipykernel)",
   "language": "python",
   "name": "python3"
  },
  "language_info": {
   "codemirror_mode": {
    "name": "ipython",
    "version": 3
   },
   "file_extension": ".py",
   "mimetype": "text/x-python",
   "name": "python",
   "nbconvert_exporter": "python",
   "pygments_lexer": "ipython3",
   "version": "3.13.0"
  }
 },
 "nbformat": 4,
 "nbformat_minor": 5
}
