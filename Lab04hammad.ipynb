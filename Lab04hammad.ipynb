{
 "cells": [
  {
   "cell_type": "markdown",
   "id": "244fe21d-1488-4ead-8e4e-a51ab2cd192d",
   "metadata": {},
   "source": [
    "# Task 01: Write a Python program to take two numbers as input and perform all arithmetic operations on them."
   ]
  },
  {
   "cell_type": "code",
   "execution_count": 5,
   "id": "1adfddad-02d4-46ac-af5d-eb192e070dfd",
   "metadata": {},
   "outputs": [
    {
     "name": "stdout",
     "output_type": "stream",
     "text": [
      "Enter first number:  12\n",
      "Enter second number:  2\n"
     ]
    },
    {
     "name": "stdout",
     "output_type": "stream",
     "text": [
      "Addition: 14.0\n",
      "Subtraction: 10.0\n",
      "Multiplication: 24.0\n",
      "Division: 6.0\n",
      "Floor Division: 6.0\n",
      "Modulus: 0.0\n",
      "Exponentiation: 144.0\n"
     ]
    }
   ],
   "source": [
    "a = float(input(\"Enter first number: \"))\n",
    "b = float(input(\"Enter second number: \"))\n",
    "\n",
    "print(\"Addition:\", a + b)\n",
    "print(\"Subtraction:\", a - b)\n",
    "print(\"Multiplication:\", a * b)\n",
    "print(\"Division:\", a / b)\n",
    "print(\"Floor Division:\", a // b)\n",
    "print(\"Modulus:\", a % b)\n",
    "print(\"Exponentiation:\", a ** b)"
   ]
  },
  {
   "cell_type": "markdown",
   "id": "2a19c3f5-b76b-4c5a-91c5-3519fdf41e0c",
   "metadata": {},
   "source": [
    "# Task 02: Create a function that takes two numbers and returns their sum, difference, product, and quotient."
   ]
  },
  {
   "cell_type": "code",
   "execution_count": 6,
   "id": "87b8064e-6430-40c2-ae9d-a23308c744bc",
   "metadata": {},
   "outputs": [
    {
     "name": "stdout",
     "output_type": "stream",
     "text": [
      "Sum: 15\n",
      "Difference: 5\n",
      "Product: 50\n",
      "Quotient: 2.0\n"
     ]
    }
   ],
   "source": [
    "def arithmetic_operations(a, b):\n",
    "    sum_ = a + b\n",
    "    difference = a - b\n",
    "    product = a * b\n",
    "    quotient = a / b if b != 0 else None\n",
    "    return sum_, difference, product, quotient\n",
    "\n",
    "result = arithmetic_operations(10, 5)\n",
    "print(\"Sum:\", result[0])\n",
    "print(\"Difference:\", result[1])\n",
    "print(\"Product:\", result[2])\n",
    "print(\"Quotient:\", result[3])"
   ]
  },
  {
   "cell_type": "markdown",
   "id": "38aae458-b913-4666-abc3-cc15df722456",
   "metadata": {},
   "source": [
    "# Task 03: Write a Python script to find the remainder when one number is divided by another."
   ]
  },
  {
   "cell_type": "code",
   "execution_count": 8,
   "id": "aa63dab9-84b5-4e4f-9da1-ae3c65056c26",
   "metadata": {},
   "outputs": [
    {
     "name": "stdout",
     "output_type": "stream",
     "text": [
      "Enter the dividend:  20\n",
      "Enter the divisor:  3\n"
     ]
    },
    {
     "name": "stdout",
     "output_type": "stream",
     "text": [
      "Remainder: 2\n"
     ]
    }
   ],
   "source": [
    "num1 = int(input(\"Enter the dividend: \"))\n",
    "num2 = int(input(\"Enter the divisor: \"))\n",
    "\n",
    "if num2 != 0:\n",
    "    remainder = num1 % num2\n",
    "    print(\"Remainder:\", remainder)\n",
    "else:\n",
    "    print(\"Error: Division by zero is not allowed.\")"
   ]
  },
  {
   "cell_type": "markdown",
   "id": "72004353-a250-4567-b1d1-a5c6ac6750e8",
   "metadata": {},
   "source": [
    "# Task 04: Write a program to calculate the area of a circle using the formula: Area = π * r^2."
   ]
  },
  {
   "cell_type": "code",
   "execution_count": 9,
   "id": "a6f1ada7-d732-449e-8c41-299977a66f3e",
   "metadata": {},
   "outputs": [
    {
     "name": "stdout",
     "output_type": "stream",
     "text": [
      "Enter the radius of the circle:  20\n"
     ]
    },
    {
     "name": "stdout",
     "output_type": "stream",
     "text": [
      "Area of the circle: 1256.6370614359173\n"
     ]
    }
   ],
   "source": [
    "import math\n",
    "\n",
    "radius = float(input(\"Enter the radius of the circle: \"))\n",
    "area = math.pi * radius ** 2\n",
    "\n",
    "print(\"Area of the circle:\", area)"
   ]
  },
  {
   "cell_type": "markdown",
   "id": "c1bb8273-3bf8-4477-8eaa-09c7e6b5424a",
   "metadata": {},
   "source": [
    "# Task 05: Implement a program that takes a number as input and returns its square and cube using exponentiation."
   ]
  },
  {
   "cell_type": "code",
   "execution_count": 10,
   "id": "5f9bc06d-e218-4e49-991b-12362b537194",
   "metadata": {
    "scrolled": true
   },
   "outputs": [
    {
     "name": "stdout",
     "output_type": "stream",
     "text": [
      "Enter a number:  30\n"
     ]
    },
    {
     "name": "stdout",
     "output_type": "stream",
     "text": [
      "Square: 900.0\n",
      "Cube: 27000.0\n"
     ]
    }
   ],
   "source": [
    "num = float(input(\"Enter a number: \"))\n",
    "\n",
    "square = num ** 2\n",
    "cube = num ** 3\n",
    "\n",
    "print(\"Square:\", square)\n",
    "print(\"Cube:\", cube)"
   ]
  },
  {
   "cell_type": "markdown",
   "id": "5f7690e0-aaf0-4ea7-a1b9-4e431ba12a86",
   "metadata": {},
   "source": [
    "# Task 06: Create a simple calculator in Python that allows the user to choose an operation (addition, subtraction, etc.) and inputs two numbers. "
   ]
  },
  {
   "cell_type": "code",
   "execution_count": 11,
   "id": "ee85d74f-cc5e-4eed-b952-eb21612aa9fd",
   "metadata": {},
   "outputs": [
    {
     "name": "stdout",
     "output_type": "stream",
     "text": [
      "Simple Calculator\n",
      "Select operation:\n",
      "1. Addition\n",
      "2. Subtraction\n",
      "3. Multiplication\n",
      "4. Division\n"
     ]
    },
    {
     "name": "stdout",
     "output_type": "stream",
     "text": [
      "Enter choice (1/2/3/4):  2\n",
      "Enter first number:  23\n",
      "Enter second number:  23\n"
     ]
    },
    {
     "name": "stdout",
     "output_type": "stream",
     "text": [
      "Result: 0.0\n"
     ]
    }
   ],
   "source": [
    "print(\"Simple Calculator\")\n",
    "print(\"Select operation:\")\n",
    "print(\"1. Addition\")\n",
    "print(\"2. Subtraction\")\n",
    "print(\"3. Multiplication\")\n",
    "print(\"4. Division\")\n",
    "\n",
    "choice = input(\"Enter choice (1/2/3/4): \")\n",
    "\n",
    "num1 = float(input(\"Enter first number: \"))\n",
    "num2 = float(input(\"Enter second number: \"))\n",
    "\n",
    "if choice == '1':\n",
    "    print(\"Result:\", num1 + num2)\n",
    "elif choice == '2':\n",
    "    print(\"Result:\", num1 - num2)\n",
    "elif choice == '3':\n",
    "    print(\"Result:\", num1 * num2)\n",
    "elif choice == '4':\n",
    "    if num2 != 0:\n",
    "        print(\"Result:\", num1 / num2)\n",
    "    else:\n",
    "        print(\"Error: Cannot divide by zero\")\n",
    "else:\n",
    "    print(\"Invalid input\")"
   ]
  }
 ],
 "metadata": {
  "kernelspec": {
   "display_name": "Python 3 (ipykernel)",
   "language": "python",
   "name": "python3"
  },
  "language_info": {
   "codemirror_mode": {
    "name": "ipython",
    "version": 3
   },
   "file_extension": ".py",
   "mimetype": "text/x-python",
   "name": "python",
   "nbconvert_exporter": "python",
   "pygments_lexer": "ipython3",
   "version": "3.13.0"
  }
 },
 "nbformat": 4,
 "nbformat_minor": 5
}
