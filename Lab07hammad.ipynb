{
 "cells": [
  {
   "cell_type": "markdown",
   "id": "0731b4fa-e1b3-4182-bd91-6cc6cbc96137",
   "metadata": {},
   "source": [
    "# Task 1: Write a function that takes two numbers and returns their product."
   ]
  },
  {
   "cell_type": "code",
   "execution_count": 1,
   "id": "0164ab64-faee-4d09-aca6-ddcef48f2d24",
   "metadata": {
    "scrolled": true
   },
   "outputs": [
    {
     "name": "stdout",
     "output_type": "stream",
     "text": [
      "The product is: 20\n"
     ]
    }
   ],
   "source": [
    "def multiply(a, b):\n",
    "    return a * b\n",
    "    \n",
    "result = multiply(4, 5)\n",
    "print(f\"The product is: {result}\")"
   ]
  },
  {
   "cell_type": "markdown",
   "id": "4c1dbc46-8de1-418a-8fed-afc5284a9bf3",
   "metadata": {},
   "source": [
    "# Task 2: Write a function that checks whether a number is even or odd."
   ]
  },
  {
   "cell_type": "code",
   "execution_count": 2,
   "id": "d1f108fc-5755-4671-b53c-98da3b734663",
   "metadata": {},
   "outputs": [
    {
     "name": "stdout",
     "output_type": "stream",
     "text": [
      "Even\n",
      "Odd\n"
     ]
    }
   ],
   "source": [
    "def check_even_odd(number):\n",
    "    return \"Even\" if number % 2 == 0 else \"Odd\"\n",
    "\n",
    "print(check_even_odd(4))"
   ]
  },
  {
   "cell_type": "markdown",
   "id": "d6910aad-d674-4507-a0bd-45dbbd4df74a",
   "metadata": {},
   "source": [
    "# Task 3: Write a function that takes a name and age and prints a greeting."
   ]
  },
  {
   "cell_type": "code",
   "execution_count": 8,
   "id": "c0166176-c918-4be2-bb37-8e4cf3a3a301",
   "metadata": {},
   "outputs": [
    {
     "name": "stdout",
     "output_type": "stream",
     "text": [
      "Assalamu-Alaikum, Muzzammil! You are 23 years old.\n"
     ]
    }
   ],
   "source": [
    "def greet(name, age):\n",
    "    print(f\"Assalamu-Alaikum, {name}! You are {age} years old.\")\n",
    "\n",
    "greet(\"Muzzammil\", 23)"
   ]
  }
 ],
 "metadata": {
  "kernelspec": {
   "display_name": "Python 3 (ipykernel)",
   "language": "python",
   "name": "python3"
  },
  "language_info": {
   "codemirror_mode": {
    "name": "ipython",
    "version": 3
   },
   "file_extension": ".py",
   "mimetype": "text/x-python",
   "name": "python",
   "nbconvert_exporter": "python",
   "pygments_lexer": "ipython3",
   "version": "3.13.0"
  }
 },
 "nbformat": 4,
 "nbformat_minor": 5
}
