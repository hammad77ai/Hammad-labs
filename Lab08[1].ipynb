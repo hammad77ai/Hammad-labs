{
 "cells": [
  {
   "cell_type": "markdown",
   "id": "de85fc0b-1b01-43af-a30c-50f52af6464a",
   "metadata": {},
   "source": [
    "# Task 1: Make a calculator using the function the code should use only 2 operands(+ and  -) for division and multiplication as well."
   ]
  },
  {
   "cell_type": "code",
   "execution_count": 2,
   "id": "3e9c50c7-dbde-43cb-bb32-9d994afde2f0",
   "metadata": {},
   "outputs": [
    {
     "name": "stdout",
     "output_type": "stream",
     "text": [
      "9\n",
      "3\n",
      "18\n",
      "2\n"
     ]
    }
   ],
   "source": [
    "def calculator(a, b, op):\n",
    "    if op == '+':\n",
    "        return a + b\n",
    "    elif op == '-':\n",
    "        return a - b\n",
    "    elif op == '*':\n",
    "        result = 0\n",
    "        for _ in range(b):\n",
    "            result += a\n",
    "        return result\n",
    "    elif op == '/':\n",
    "        count = 0\n",
    "        while a >= b:\n",
    "            a -= b\n",
    "            count += 1\n",
    "        return count\n",
    "    else:\n",
    "        return \"Invalid operation\"\n",
    "\n",
    "print(calculator(6, 3, '+'))  \n",
    "print(calculator(6, 3, '-'))  \n",
    "print(calculator(6, 3, '*'))  \n",
    "print(calculator(6, 3, '/'))"
   ]
  },
  {
   "cell_type": "markdown",
   "id": "d8942434-2fbb-4c45-abda-16fbc25384f3",
   "metadata": {},
   "source": [
    "# Task 2: Write a functions that ask the user the shape and make the star shaped.(Like it asks the shape(triangle or Rectangle) and make that shape."
   ]
  },
  {
   "cell_type": "code",
   "execution_count": 22,
   "id": "7afb736d-7af6-4203-b169-8bb016499041",
   "metadata": {
    "scrolled": true
   },
   "outputs": [
    {
     "name": "stdout",
     "output_type": "stream",
     "text": [
      "Enter shape (triangle or rectangle):  triangle\n",
      "Enter height of triangle:  5\n"
     ]
    },
    {
     "name": "stdout",
     "output_type": "stream",
     "text": [
      "    * \n",
      "   * * \n",
      "  * * * \n",
      " * * * * \n",
      "* * * * * \n"
     ]
    }
   ],
   "source": [
    "def draw_shape():\n",
    "    shape = input(\"Enter shape (triangle or rectangle): \").lower()\n",
    "\n",
    "    if shape == \"triangle\":\n",
    "        height = int(input(\"Enter height of triangle: \"))\n",
    "        for i in range(1, height + 1):\n",
    "            print(' ' * (height - i), end='')\n",
    "            print('* ' * i)\n",
    "\n",
    "    elif shape == \"rectangle\":\n",
    "        width = int(input(\"Enter width of rectangle: \"))\n",
    "        height = int(input(\"Enter height of rectangle: \"))\n",
    "        for _ in range(height):\n",
    "            print('* ' * width)\n",
    "\n",
    "    else:\n",
    "        print(\"Invalid shape. Please enter 'triangle' or 'rectangle'.\")\n",
    "\n",
    "draw_shape()"
   ]
  },
  {
   "cell_type": "code",
   "execution_count": null,
   "id": "66fb0259-4c29-4bfc-98ae-e071b69c6c7b",
   "metadata": {},
   "outputs": [],
   "source": []
  }
 ],
 "metadata": {
  "kernelspec": {
   "display_name": "Python 3 (ipykernel)",
   "language": "python",
   "name": "python3"
  },
  "language_info": {
   "codemirror_mode": {
    "name": "ipython",
    "version": 3
   },
   "file_extension": ".py",
   "mimetype": "text/x-python",
   "name": "python",
   "nbconvert_exporter": "python",
   "pygments_lexer": "ipython3",
   "version": "3.13.3"
  }
 },
 "nbformat": 4,
 "nbformat_minor": 5
}
